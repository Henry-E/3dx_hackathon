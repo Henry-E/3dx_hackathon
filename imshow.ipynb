{
 "cells": [
  {
   "cell_type": "code",
   "execution_count": null,
   "metadata": {},
   "outputs": [],
   "source": [
    "%matplotlib inline\n",
    "import matplotlib.pyplot as plt\n",
    "import matplotlib.image as mpimg\n",
    "import numpy as np\n",
    "import time\n",
    "import scipy.misc\n",
    "import gc"
   ]
  },
  {
   "cell_type": "code",
   "execution_count": null,
   "metadata": {},
   "outputs": [],
   "source": [
    "gc.enable()"
   ]
  },
  {
   "cell_type": "code",
   "execution_count": null,
   "metadata": {},
   "outputs": [],
   "source": [
    "x_window = 256\n",
    "y_window = 256\n",
    "\n",
    "img = scipy.misc.imread('image.png')\n",
    "\n",
    "x_size = img.shape[0]\n",
    "y_size = img.shape[1]\n",
    "x_remainder = img.shape[0]%y_window\n",
    "y_remainder = img.shape[1]%x_window\n",
    "print(x_remainder)\n",
    "print(y_remainder)"
   ]
  },
  {
   "cell_type": "code",
   "execution_count": null,
   "metadata": {},
   "outputs": [],
   "source": [
    "resized = img[:x_size-x_remainder, :y_size-y_remainder, :]\n",
    "print(resized.shape)\n",
    "blank_update = np.ones([resized.shape[0], resized.shape[1],3])\n",
    "blank_update *= np.array([256,256,0])\n",
    "#plt.axis(\"off\")\n",
    "#imgplot = plt.imshow(blank_update)\n",
    "#plt.show()\n",
    "num_x_samples = int(resized.shape[0]/256)\n",
    "num_y_samples = int(resized.shape[1]/256)\n",
    "print(num_x_samples, num_y_samples)\n",
    "for row in range(num_y_samples):\n",
    "    \n",
    "    y_low = row*y_window\n",
    "    y_high = (row+1)*y_window\n",
    "    \n",
    "    for sample_in_row in range(num_x_samples):\n",
    "        x_low = sample_in_row*x_window\n",
    "        x_high = (sample_in_row+1)*x_window\n",
    "        print(x_low, x_high)\n",
    "        sample = resized[x_low:x_high,y_low:y_high,:]\n",
    "        blank_update[x_low:x_high,y_low:y_high,:] = sample\n",
    "        sample = scipy.misc.imresize(sample,[resized.shape[0], resized.shape[1],3])\n",
    "        plot_image = np.concatenate((blank_update, sample), axis=1)\n",
    "        #imgplot = plt.imshow(plot_image)\n",
    "        #plt.show()\n",
    "        # send sample to classifie"
   ]
  },
  {
   "cell_type": "code",
   "execution_count": null,
   "metadata": {},
   "outputs": [],
   "source": [
    "\n",
    "        "
   ]
  },
  {
   "cell_type": "code",
   "execution_count": null,
   "metadata": {},
   "outputs": [],
   "source": []
  },
  {
   "cell_type": "code",
   "execution_count": null,
   "metadata": {},
   "outputs": [],
   "source": []
  }
 ],
 "metadata": {
  "kernelspec": {
   "display_name": "Python 3",
   "language": "python",
   "name": "python3"
  }
 },
 "nbformat": 4,
 "nbformat_minor": 1
}
